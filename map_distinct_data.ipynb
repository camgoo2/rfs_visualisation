{
 "cells": [
  {
   "cell_type": "code",
   "execution_count": 1,
   "id": "6f9063c7",
   "metadata": {},
   "outputs": [],
   "source": [
    "def query_distinct_data(athena_client,result_output_location):\n",
    "    query = \"SELECT DISTINCT * from fire_data.rfs_fire_data where state in ('NSW','VIC','QLD')\"\n",
    "    response = athena_client.start_query_execution(\n",
    "        QueryString=query,\n",
    "        ResultConfiguration={\"OutputLocation\": result_output_location})\n",
    "    return response[\"QueryExecutionId\"]\n",
    "    \n",
    "    \n"
   ]
  },
  {
   "cell_type": "code",
   "execution_count": 2,
   "id": "c975503b",
   "metadata": {},
   "outputs": [],
   "source": [
    "def distinct_data_df(pd,s3_client,bucket, response_path):\n",
    "    #bucket = \"camgoo2-rfs-visualisation\"\n",
    "    #response_path = \"query_results/\"+execution_id+'.csv'\n",
    "\n",
    "     \n",
    "    # 's3' is a key word. create connection to S3 using default config and all buckets within S3\n",
    "    obj = s3_client.get_object(Bucket= bucket, Key= response_path) \n",
    "    # get object and file (key) from bucket\n",
    "    df = pd.read_csv(obj['Body']) # 'Body' is a key word\n",
    "    df= df.dropna()\n",
    "    return df\n"
   ]
  },
  {
   "cell_type": "code",
   "execution_count": 3,
   "id": "3979869f",
   "metadata": {},
   "outputs": [],
   "source": [
    "def create_distinct_data_map(df,folium):\n",
    "    fire_location = df[[\"latitude\", \"longitude\"]]\n",
    "    map = folium.Map(location=[fire_location.latitude.mean(), fire_location.longitude.mean()],\n",
    "                 zoom_start=5, control_scale=True)\n",
    "    for index, location_info in fire_location.iterrows():\n",
    "        folium.Marker([location_info[\"latitude\"], location_info[\"longitude\"]]\n",
    "                      ,icon=folium.Icon(color=\"orange\",icon = \"fire\")).add_to(map)\n",
    "    #have used https://mapshaper.org/ to reduce the file size of polygons. I am now using \n",
    "    #reduced file LGA11aAust.json rather than LGA11aAust.geojson \n",
    "    folium.GeoJson('LGA11aAust.json').add_to(map)\n",
    "    \n",
    "    return map"
   ]
  },
  {
   "cell_type": "code",
   "execution_count": null,
   "id": "a324c73d",
   "metadata": {},
   "outputs": [],
   "source": []
  },
  {
   "cell_type": "code",
   "execution_count": null,
   "id": "f889bee6",
   "metadata": {},
   "outputs": [],
   "source": []
  },
  {
   "cell_type": "code",
   "execution_count": null,
   "id": "e766f0fd",
   "metadata": {},
   "outputs": [],
   "source": []
  }
 ],
 "metadata": {
  "kernelspec": {
   "display_name": "Python 3",
   "language": "python",
   "name": "python3"
  },
  "language_info": {
   "codemirror_mode": {
    "name": "ipython",
    "version": 3
   },
   "file_extension": ".py",
   "mimetype": "text/x-python",
   "name": "python",
   "nbconvert_exporter": "python",
   "pygments_lexer": "ipython3",
   "version": "3.8.8 (default, Apr 13 2021, 12:59:45) \n[Clang 10.0.0 ]"
  },
  "vscode": {
   "interpreter": {
    "hash": "a427891526f5cdd3d4c62082c1584f81618dc85a14911a5fc5874fae92e66acc"
   }
  }
 },
 "nbformat": 4,
 "nbformat_minor": 5
}
