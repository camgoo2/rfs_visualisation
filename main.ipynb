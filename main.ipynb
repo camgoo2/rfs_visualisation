{
 "cells": [
  {
   "cell_type": "markdown",
   "id": "8a22d961",
   "metadata": {},
   "source": [
    "## Heading "
   ]
  },
  {
   "cell_type": "code",
   "execution_count": null,
   "id": "83aadc2b",
   "metadata": {},
   "outputs": [],
   "source": [
    "import datetime\n",
    "import requests\n",
    "import xml.etree.ElementTree as ET\n",
    "import pandas as pd\n",
    "import boto3\n",
    "from shapely.geometry import Point\n",
    "import geopandas as gpd\n",
    "import folium\n",
    "from branca.element import Figure\n",
    "import time\n",
    "\n",
    "from ipynb.fs.full.qld_fire_extraction import qld_data\n",
    "from ipynb.fs.full.vic_fire_extraction import vic_data\n",
    "from ipynb.fs.full.put_to_s3_bucket import put_to_s3_bucket\n",
    "from ipynb.fs.full.dummy_2 import select_distinct_data\n",
    "from ipynb.fs.full.dummy_2 import distinct_data_df\n",
    "from ipynb.fs.full.dummy_2 import points_in_polys_join\n",
    "from ipynb.fs.full.dummy_2 import popup_html\n",
    "from ipynb.fs.full.dummy_2 import map_data\n",
    "\n",
    "aws_region = \"ap-southeast-2\"\n",
    "schema_name = \"fire_data\"\n",
    "table_name ='rfs_fire_data'\n",
    "result_output_location = \"s3://camgoo2-rfs-visualisation/query_results/\"\n",
    "bucket='camgoo2-rfs-visualisation'\n",
    "athena_client = boto3.client('athena',region_name=aws_region)\n",
    "s3_client = boto3.client('s3')\n",
    "\n",
    "\n",
    "qld_data(datetime,requests,ET,pd)\n",
    "vic_data(datetime,requests,ET,pd)\n",
    "put_to_s3_bucket(datetime,s3_client)\n",
    "execution_id = select_distinct_data(athena_client,result_output_location)\n",
    "response_path = \"query_results/\"+execution_id+'.csv'\n",
    "#allow time for athena query to execute\n",
    "time.sleep(5) \n",
    "fires_df = distinct_data_df(s3_client,bucket,response_path,pd,Point,gpd)\n",
    "pointInPolys_df = points_in_polys_join(gpd,fires_df)\n",
    "map_data(pointInPolys_df,folium,pd)\n"
   ]
  },
  {
   "cell_type": "code",
   "execution_count": null,
   "id": "2d117b97",
   "metadata": {},
   "outputs": [],
   "source": []
  }
 ],
 "metadata": {
  "kernelspec": {
   "display_name": "Python 3",
   "language": "python",
   "name": "python3"
  },
  "language_info": {
   "codemirror_mode": {
    "name": "ipython",
    "version": 3
   },
   "file_extension": ".py",
   "mimetype": "text/x-python",
   "name": "python",
   "nbconvert_exporter": "python",
   "pygments_lexer": "ipython3",
   "version": "3.8.8 (default, Apr 13 2021, 12:59:45) \n[Clang 10.0.0 ]"
  },
  "vscode": {
   "interpreter": {
    "hash": "a427891526f5cdd3d4c62082c1584f81618dc85a14911a5fc5874fae92e66acc"
   }
  }
 },
 "nbformat": 4,
 "nbformat_minor": 5
}
