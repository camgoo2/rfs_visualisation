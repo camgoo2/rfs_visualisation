{
 "cells": [
  {
   "cell_type": "code",
   "execution_count": 1,
   "id": "783cb466",
   "metadata": {},
   "outputs": [],
   "source": [
    "import csv\n",
    "# Define the structure of the data\n",
    "# fire_header = ['Latitude','Longitude','State','Report Date']\n",
    "# 1. Open a new CSV file\n",
    "with open('data/fire_data.csv', 'w') as file:\n",
    "    # 2. Create a CSV writer\n",
    "    writer = csv.writer(file)\n",
    "    #writer.writerow(fire_header)"
   ]
  },
  {
   "cell_type": "code",
   "execution_count": 2,
   "id": "46f3bccf",
   "metadata": {},
   "outputs": [],
   "source": [
    "with open('data/fire_data_distinct.csv', 'w') as file:\n",
    "    # 2. Create a CSV writer\n",
    "    writer = csv.writer(file)\n",
    "    #writer.writerow(fire_header)"
   ]
  },
  {
   "cell_type": "code",
   "execution_count": null,
   "id": "47aa7d1a",
   "metadata": {},
   "outputs": [],
   "source": []
  }
 ],
 "metadata": {
  "kernelspec": {
   "display_name": "Python 3",
   "language": "python",
   "name": "python3"
  },
  "language_info": {
   "codemirror_mode": {
    "name": "ipython",
    "version": 3
   },
   "file_extension": ".py",
   "mimetype": "text/x-python",
   "name": "python",
   "nbconvert_exporter": "python",
   "pygments_lexer": "ipython3",
   "version": "3.8.8 (default, Apr 13 2021, 12:59:45) \n[Clang 10.0.0 ]"
  },
  "vscode": {
   "interpreter": {
    "hash": "a427891526f5cdd3d4c62082c1584f81618dc85a14911a5fc5874fae92e66acc"
   }
  }
 },
 "nbformat": 4,
 "nbformat_minor": 5
}
