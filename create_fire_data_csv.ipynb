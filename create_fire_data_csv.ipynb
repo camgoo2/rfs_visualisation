{
 "cells": [
  {
   "cell_type": "code",
   "execution_count": null,
   "id": "783cb466",
   "metadata": {},
   "outputs": [],
   "source": [
    "import csv\n",
    "# Define the structure of the data\n",
    "fire_header = ['Latitude','Longitude','State','Report Date']\n",
    "# 1. Open a new CSV file\n",
    "with open('data/fire_data.csv', 'w') as file:\n",
    "    # 2. Create a CSV writer\n",
    "    writer = csv.writer(file)\n",
    "    writer.writerow(fire_header)"
   ]
  },
  {
   "cell_type": "code",
   "execution_count": null,
   "id": "46f3bccf",
   "metadata": {},
   "outputs": [],
   "source": []
  }
 ],
 "metadata": {
  "kernelspec": {
   "display_name": "Python 3",
   "language": "python",
   "name": "python3"
  },
  "language_info": {
   "codemirror_mode": {
    "name": "ipython",
    "version": 3
   },
   "file_extension": ".py",
   "mimetype": "text/x-python",
   "name": "python",
   "nbconvert_exporter": "python",
   "pygments_lexer": "ipython3",
   "version": "3.8.8"
  }
 },
 "nbformat": 4,
 "nbformat_minor": 5
}
