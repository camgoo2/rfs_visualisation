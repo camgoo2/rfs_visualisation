{
 "cells": [
  {
   "cell_type": "code",
   "execution_count": 4,
   "id": "c5d13d24",
   "metadata": {},
   "outputs": [],
   "source": [
    "def put_to_s3_bucket(datetime,s3_client):  \n",
    "    now = datetime.datetime.now()\n",
    "    now = now.strftime('%Y%m%d-%H%M%S')\n",
    "    #arguments (file to be added, bucket to be added too, name of file in bucket)\n",
    "    s3_client.upload_file('data/fire_data_df_no_duplicates.csv','camgoo2-rfs-visualisation','fire_data_'+now+'.csv')"
   ]
  },
  {
   "cell_type": "code",
   "execution_count": null,
   "id": "c426e87c",
   "metadata": {},
   "outputs": [],
   "source": []
  }
 ],
 "metadata": {
  "kernelspec": {
   "display_name": "Python 3",
   "language": "python",
   "name": "python3"
  },
  "language_info": {
   "codemirror_mode": {
    "name": "ipython",
    "version": 3
   },
   "file_extension": ".py",
   "mimetype": "text/x-python",
   "name": "python",
   "nbconvert_exporter": "python",
   "pygments_lexer": "ipython3",
   "version": "3.8.8"
  }
 },
 "nbformat": 4,
 "nbformat_minor": 5
}
