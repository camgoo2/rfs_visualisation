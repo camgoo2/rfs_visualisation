{
 "cells": [
  {
   "cell_type": "code",
   "execution_count": null,
   "id": "c5d13d24",
   "metadata": {},
   "outputs": [],
   "source": [
    "def put_to_s3_bucket(datetime,s3_client):  \n",
    "    now = datetime.datetime.now()\n",
    "    now = now.strftime('%Y%m%d-%H%M%S')\n",
    "    #arguments (file to be added, bucket to be added too, name of file in bucket)\n",
    "    s3_client.upload_file('data/fire_data_distinct.csv','camgoo2-rfs-visualisation','fire_data_'+now+'.csv')"
   ]
  },
  {
   "cell_type": "code",
   "execution_count": null,
   "id": "c426e87c",
   "metadata": {},
   "outputs": [],
   "source": []
  }
 ],
 "metadata": {
  "kernelspec": {
   "display_name": "Python 3",
   "language": "python",
   "name": "python3"
  },
  "language_info": {
   "codemirror_mode": {
    "name": "ipython",
    "version": 3
   },
   "file_extension": ".py",
   "mimetype": "text/x-python",
   "name": "python",
   "nbconvert_exporter": "python",
   "pygments_lexer": "ipython3",
   "version": "3.9.6 (v3.9.6:db3ff76da1, Jun 28 2021, 11:49:53) \n[Clang 6.0 (clang-600.0.57)]"
  },
  "vscode": {
   "interpreter": {
    "hash": "aee8b7b246df8f9039afb4144a1f6fd8d2ca17a180786b69acc140d282b71a49"
   }
  }
 },
 "nbformat": 4,
 "nbformat_minor": 5
}
