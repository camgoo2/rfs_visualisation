{
 "cells": [
  {
   "cell_type": "code",
   "execution_count": 18,
   "id": "654bec43",
   "metadata": {},
   "outputs": [],
   "source": [
    "import json\n",
    "import pandas as pd\n",
    "import requests\n",
    "from datetime import date\n",
    "import boto3\n",
    "import time\n",
    "import geopandas as gpd\n",
    "import folium"
   ]
  },
  {
   "cell_type": "code",
   "execution_count": 23,
   "id": "e14bf3fe",
   "metadata": {},
   "outputs": [],
   "source": [
    "aws_region = \"ap-southeast-2\"\n",
    "schema_name = \"fire_data\"\n",
    "table_name ='rfs_fire_data'\n",
    "result_output_location = \"s3://camgoo2-rfs-visualisation/query_results/\"\n",
    "bucket='camgoo2-rfs-visualisation'\n",
    "athena_client = boto3.client('athena',region_name=aws_region)\n",
    "s3_client = boto3.client('s3')"
   ]
  },
  {
   "cell_type": "markdown",
   "id": "e32925eb",
   "metadata": {},
   "source": [
    "#convert sapefile to Geojson file.this does not need to be run anymore as is always done.\n",
    "\n",
    "myshpfile = gpd.read_file('1259030001_lga11aaust_shape/LGA11aAust.shp')\n",
    "myshpfile.to_file('LGA11aAust.geojson', driver='GeoJSON')"
   ]
  },
  {
   "cell_type": "code",
   "execution_count": 19,
   "id": "212c7d4b",
   "metadata": {},
   "outputs": [],
   "source": [
    "lga_boundaries = gpd.read_file('LGA11aAust.geojson')"
   ]
  },
  {
   "cell_type": "code",
   "execution_count": 24,
   "id": "e8511d1d",
   "metadata": {},
   "outputs": [],
   "source": [
    "def query_distinct_data(athena_client,result_output_location):\n",
    "    query = \"SELECT DISTINCT * from fire_data.rfs_fire_data where state in ('NSW','VIC','QLD')\"\n",
    "    response = athena_client.start_query_execution(\n",
    "        QueryString=query,\n",
    "        ResultConfiguration={\"OutputLocation\": result_output_location})\n",
    "    return response[\"QueryExecutionId\"]"
   ]
  },
  {
   "cell_type": "code",
   "execution_count": 26,
   "id": "7fdd8f20",
   "metadata": {
    "scrolled": true
   },
   "outputs": [],
   "source": [
    "execution_id = query_distinct_data(athena_client,result_output_location)"
   ]
  },
  {
   "cell_type": "code",
   "execution_count": 27,
   "id": "ddac95c4",
   "metadata": {},
   "outputs": [],
   "source": [
    "def distinct_data_df(pd,s3_client,bucket, response_path):\n",
    "    #bucket = \"camgoo2-rfs-visualisation\"\n",
    "    response_path = \"query_results/\"+execution_id+'.csv'\n",
    "\n",
    "     \n",
    "    # 's3' is a key word. create connection to S3 using default config and all buckets within S3\n",
    "    obj = s3_client.get_object(Bucket= bucket, Key= response_path) \n",
    "    # get object and file (key) from bucket\n",
    "    df = pd.read_csv(obj['Body']) # 'Body' is a key word\n",
    "    df= df.dropna()\n",
    "    return df"
   ]
  },
  {
   "cell_type": "code",
   "execution_count": 28,
   "id": "1b1aca51",
   "metadata": {},
   "outputs": [],
   "source": [
    "response_path = \"query_results/\"+execution_id+'.csv'"
   ]
  },
  {
   "cell_type": "code",
   "execution_count": 29,
   "id": "3b40c1e5",
   "metadata": {},
   "outputs": [],
   "source": [
    "df = distinct_data_df(pd,s3_client,bucket, response_path)"
   ]
  },
  {
   "cell_type": "code",
   "execution_count": 43,
   "id": "a8c41660",
   "metadata": {},
   "outputs": [
    {
     "ename": "NameError",
     "evalue": "name 'choropleth' is not defined",
     "output_type": "error",
     "traceback": [
      "\u001b[0;31m---------------------------------------------------------------------------\u001b[0m",
      "\u001b[0;31mNameError\u001b[0m                                 Traceback (most recent call last)",
      "\u001b[0;32m<ipython-input-43-f4f0e59b175c>\u001b[0m in \u001b[0;36m<module>\u001b[0;34m\u001b[0m\n\u001b[1;32m     31\u001b[0m \u001b[0mchloropeth\u001b[0m\u001b[0;34m.\u001b[0m\u001b[0mgeojson\u001b[0m\u001b[0;34m.\u001b[0m\u001b[0madd_child\u001b[0m\u001b[0;34m(\u001b[0m\u001b[0mfolium\u001b[0m\u001b[0;34m.\u001b[0m\u001b[0mfeatures\u001b[0m\u001b[0;34m.\u001b[0m\u001b[0mGeoJsonTooltip\u001b[0m\u001b[0;34m(\u001b[0m\u001b[0;34m[\u001b[0m\u001b[0;34m'Tot_P_P'\u001b[0m\u001b[0;34m]\u001b[0m\u001b[0;34m)\u001b[0m\u001b[0;34m)\u001b[0m\u001b[0;34m\u001b[0m\u001b[0;34m\u001b[0m\u001b[0m\n\u001b[1;32m     32\u001b[0m \u001b[0;34m\u001b[0m\u001b[0m\n\u001b[0;32m---> 33\u001b[0;31m \u001b[0;32mfor\u001b[0m \u001b[0mkey\u001b[0m \u001b[0;32min\u001b[0m \u001b[0mchoropleth\u001b[0m\u001b[0;34m.\u001b[0m\u001b[0m_children\u001b[0m\u001b[0;34m:\u001b[0m\u001b[0;34m\u001b[0m\u001b[0;34m\u001b[0m\u001b[0m\n\u001b[0m\u001b[1;32m     34\u001b[0m     \u001b[0;32mif\u001b[0m \u001b[0mkey\u001b[0m\u001b[0;34m.\u001b[0m\u001b[0mstartswith\u001b[0m\u001b[0;34m(\u001b[0m\u001b[0;34m'color_map'\u001b[0m\u001b[0;34m)\u001b[0m\u001b[0;34m:\u001b[0m\u001b[0;34m\u001b[0m\u001b[0;34m\u001b[0m\u001b[0m\n\u001b[1;32m     35\u001b[0m         \u001b[0;32mdel\u001b[0m\u001b[0;34m(\u001b[0m\u001b[0mchoropleth\u001b[0m\u001b[0;34m.\u001b[0m\u001b[0m_children\u001b[0m\u001b[0;34m[\u001b[0m\u001b[0mkey\u001b[0m\u001b[0;34m]\u001b[0m\u001b[0;34m)\u001b[0m\u001b[0;34m\u001b[0m\u001b[0;34m\u001b[0m\u001b[0m\n",
      "\u001b[0;31mNameError\u001b[0m: name 'choropleth' is not defined"
     ]
    }
   ],
   "source": [
    "#now trying to bring up the population when hovering over the LGA\n",
    "bins = list(lga_boundaries[\"Tot_P_P\"].quantile([0, 0.10, 0.3, 0.90, 1]))\n",
    "\n",
    "fire_location = df[[\"latitude\", \"longitude\"]]\n",
    "map = folium.Map(location=[fire_location.latitude.mean(), fire_location.longitude.mean()],\n",
    "                zoom_start=5, control_scale=True)\n",
    "for index, location_info in fire_location.iterrows():\n",
    "    folium.Marker([location_info[\"latitude\"], location_info[\"longitude\"]]\n",
    "                      ,icon=folium.Icon(color=\"orange\",icon = \"fire\")).add_to(map)\n",
    "    #have used https://mapshaper.org/ to reduce the file size of polygons. I am now using \n",
    "    #reduced file LGA11aAust.json rather than LGA11aAust.geojson \n",
    "\n",
    "    \n",
    "chloropeth = folium.Choropleth(\n",
    "        geo_data='LGA11aAust.geojson',\n",
    "        name='chloropeth',\n",
    "        data=lga_boundaries,\n",
    "        columns=['LGA_CODE11','Tot_P_P'], \n",
    "        key_on='feature.properties.LGA_CODE11', #Here we grab the geometries/county boundaries from the geojson file using the key 'coty_code' which is the same as county fips\n",
    "        #threshold_scale=custom_scale, #use the custom scale we created for legend\n",
    "        fill_color='YlOrRd',\n",
    "        nan_fill_color=\"White\", #Use white color if there is no data available for the county\n",
    "        fill_opacity=0.7,\n",
    "        line_opacity=0.2,\n",
    "        #legend_name='New Cases Past 7 Days (Per 100K Population) ', #title of the legend\n",
    "        highlight=True,\n",
    "        #line_color='black'\n",
    "        bins = bins,\n",
    ").add_to(map)\n",
    "\n",
    "chloropeth.geojson.add_child(folium.features.GeoJsonTooltip(['Tot_P_P']))\n",
    "        \n",
    "map"
   ]
  },
  {
   "cell_type": "code",
   "execution_count": null,
   "id": "e4dd9e65",
   "metadata": {},
   "outputs": [],
   "source": []
  }
 ],
 "metadata": {
  "kernelspec": {
   "display_name": "Python 3",
   "language": "python",
   "name": "python3"
  },
  "language_info": {
   "codemirror_mode": {
    "name": "ipython",
    "version": 3
   },
   "file_extension": ".py",
   "mimetype": "text/x-python",
   "name": "python",
   "nbconvert_exporter": "python",
   "pygments_lexer": "ipython3",
   "version": "3.8.8"
  }
 },
 "nbformat": 4,
 "nbformat_minor": 5
}
