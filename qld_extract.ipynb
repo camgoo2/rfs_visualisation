{
 "cells": [
  {
   "cell_type": "code",
   "execution_count": null,
   "id": "f61d88e1",
   "metadata": {},
   "outputs": [],
   "source": [
    "import pandas as pd\n",
    "import requests\n",
    "import xml.etree.ElementTree as ET\n",
    "import numpy as np"
   ]
  },
  {
   "cell_type": "code",
   "execution_count": null,
   "id": "d22b2ec2",
   "metadata": {},
   "outputs": [],
   "source": [
    "#Need to work out a way to get the data live, as just extracting from saved file\n",
    "mytree = ET.parse('bushfireAlert.xml') #Saved file to computer, we can use rather having to type the whole file path. \n",
    "myroot = mytree.getroot()\n",
    "#xlmns name spaces, which i think needs to be treated differently\n",
    "#extract title,geo co-ordinates, information"
   ]
  },
  {
   "cell_type": "code",
   "execution_count": null,
   "id": "387383f8",
   "metadata": {
    "scrolled": true
   },
   "outputs": [],
   "source": [
    "#dump the tree\n",
    "ET.dump(mytree)\n"
   ]
  },
  {
   "cell_type": "code",
   "execution_count": null,
   "id": "3d53bfe9",
   "metadata": {
    "scrolled": true
   },
   "outputs": [],
   "source": [
    "print(myroot.tag)"
   ]
  },
  {
   "cell_type": "code",
   "execution_count": null,
   "id": "5e4cbdef",
   "metadata": {
    "scrolled": false
   },
   "outputs": [],
   "source": [
    "#see the childs of <feed> which is the root element\n",
    "for child in myroot:\n",
    "    print (child.tag,child.attrib,child.text)"
   ]
  },
  {
   "cell_type": "code",
   "execution_count": null,
   "id": "33e45687",
   "metadata": {},
   "outputs": [],
   "source": [
    "# Yes , we can find some information\n",
    "for x in myroot.findall('.//{http://www.w3.org/2005/Atom}id'):\n",
    "    print (x.text)"
   ]
  },
  {
   "cell_type": "code",
   "execution_count": null,
   "id": "24905d4d",
   "metadata": {
    "scrolled": true
   },
   "outputs": [],
   "source": [
    "#all tags and all text\n",
    "for y in myroot.findall('.//'):\n",
    "    print (y.tag,' ', y.text)"
   ]
  },
  {
   "cell_type": "code",
   "execution_count": null,
   "id": "4858a67d",
   "metadata": {},
   "outputs": [],
   "source": [
    "#there length of title list is 22 , which is 1 longer than geo_list and content_list\n",
    "title_list=[]\n",
    "for title in myroot.findall('.//{http://www.w3.org/2005/Atom}title'):\n",
    "    title_list.append(title.text)"
   ]
  },
  {
   "cell_type": "code",
   "execution_count": null,
   "id": "ece3aba9",
   "metadata": {},
   "outputs": [],
   "source": [
    "#list form Geo cordinates (lat,longs)\n",
    "geo_list=[]\n",
    "for geo in myroot.findall('.//{http://www.georss.org/georss}point'):\n",
    "    geo_list.append(geo.text)"
   ]
  },
  {
   "cell_type": "code",
   "execution_count": 17,
   "id": "66af50d7",
   "metadata": {},
   "outputs": [],
   "source": [
    "content_list=[]\n",
    "for content in myroot.findall('.//{http://www.w3.org/2005/Atom}content'):\n",
    "    content_list.append(content.text)"
   ]
  },
  {
   "cell_type": "code",
   "execution_count": 18,
   "id": "cb33f7bc",
   "metadata": {},
   "outputs": [],
   "source": [
    "#what other data is relevant\n",
    "#can't add title_list because it is not the same size as geo_list and content_list due to extra entry in file\n",
    "qld_df = pd.DataFrame({\n",
    "    'co-ordinates': geo_list,\n",
    "    'content': content_list,\n",
    "})"
   ]
  },
  {
   "cell_type": "code",
   "execution_count": 19,
   "id": "f59cdaaf",
   "metadata": {},
   "outputs": [
    {
     "data": {
      "text/html": [
       "<div>\n",
       "<style scoped>\n",
       "    .dataframe tbody tr th:only-of-type {\n",
       "        vertical-align: middle;\n",
       "    }\n",
       "\n",
       "    .dataframe tbody tr th {\n",
       "        vertical-align: top;\n",
       "    }\n",
       "\n",
       "    .dataframe thead th {\n",
       "        text-align: right;\n",
       "    }\n",
       "</style>\n",
       "<table border=\"1\" class=\"dataframe\">\n",
       "  <thead>\n",
       "    <tr style=\"text-align: right;\">\n",
       "      <th></th>\n",
       "      <th>co-ordinates</th>\n",
       "      <th>content</th>\n",
       "    </tr>\n",
       "  </thead>\n",
       "  <tbody>\n",
       "    <tr>\n",
       "      <th>0</th>\n",
       "      <td>-17.427727659214 145.23316531472</td>\n",
       "      <td>Smoke is currently affecting Irvinebank and su...</td>\n",
       "    </tr>\n",
       "    <tr>\n",
       "      <th>1</th>\n",
       "      <td>-16.675090000000004 145.340182</td>\n",
       "      <td>There is a vegetation fire at this location. S...</td>\n",
       "    </tr>\n",
       "    <tr>\n",
       "      <th>2</th>\n",
       "      <td>-27.052408000000003 150.47284300000004</td>\n",
       "      <td>There is a vegetation fire at this location. S...</td>\n",
       "    </tr>\n",
       "    <tr>\n",
       "      <th>3</th>\n",
       "      <td>-25.959733 152.65571999999997</td>\n",
       "      <td>There is a vegetation fire at this location. S...</td>\n",
       "    </tr>\n",
       "    <tr>\n",
       "      <th>4</th>\n",
       "      <td>-24.723297 152.2798</td>\n",
       "      <td>There is a vegetation fire at this location. S...</td>\n",
       "    </tr>\n",
       "    <tr>\n",
       "      <th>5</th>\n",
       "      <td>-25.063479000000008 151.671855</td>\n",
       "      <td>There is a vegetation fire at this location. S...</td>\n",
       "    </tr>\n",
       "  </tbody>\n",
       "</table>\n",
       "</div>"
      ],
      "text/plain": [
       "                             co-ordinates  \\\n",
       "0        -17.427727659214 145.23316531472   \n",
       "1          -16.675090000000004 145.340182   \n",
       "2  -27.052408000000003 150.47284300000004   \n",
       "3           -25.959733 152.65571999999997   \n",
       "4                     -24.723297 152.2798   \n",
       "5          -25.063479000000008 151.671855   \n",
       "\n",
       "                                             content  \n",
       "0  Smoke is currently affecting Irvinebank and su...  \n",
       "1  There is a vegetation fire at this location. S...  \n",
       "2  There is a vegetation fire at this location. S...  \n",
       "3  There is a vegetation fire at this location. S...  \n",
       "4  There is a vegetation fire at this location. S...  \n",
       "5  There is a vegetation fire at this location. S...  "
      ]
     },
     "metadata": {},
     "output_type": "display_data"
    }
   ],
   "source": [
    "#should the co-ordinates be in seperate columns or not\n",
    "display(qld_df)"
   ]
  },
  {
   "cell_type": "code",
   "execution_count": null,
   "id": "d9e90ca9",
   "metadata": {},
   "outputs": [],
   "source": []
  }
 ],
 "metadata": {
  "kernelspec": {
   "display_name": "Python 3",
   "language": "python",
   "name": "python3"
  },
  "language_info": {
   "codemirror_mode": {
    "name": "ipython",
    "version": 3
   },
   "file_extension": ".py",
   "mimetype": "text/x-python",
   "name": "python",
   "nbconvert_exporter": "python",
   "pygments_lexer": "ipython3",
   "version": "3.8.8"
  }
 },
 "nbformat": 4,
 "nbformat_minor": 5
}
