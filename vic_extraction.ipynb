{
 "cells": [
  {
   "cell_type": "code",
   "execution_count": 10,
   "id": "e724fd8b",
   "metadata": {},
   "outputs": [],
   "source": [
    "import requests\n",
    "import xml.etree.ElementTree as ET"
   ]
  },
  {
   "cell_type": "code",
   "execution_count": null,
   "id": "6163a50d",
   "metadata": {},
   "outputs": [],
   "source": [
    "import webbrowser\n",
    "webbrowser.open('https://data.emergency.vic.gov.au/Show?pageId=getIncidentRSS')"
   ]
  },
  {
   "cell_type": "code",
   "execution_count": 11,
   "id": "a0d57942",
   "metadata": {},
   "outputs": [],
   "source": [
    "_url = 'https://data.emergency.vic.gov.au/Show?pageId=getIncidentRSS'\n",
    "xmls_vic_fire_data = requests.get(_url).content"
   ]
  },
  {
   "cell_type": "code",
   "execution_count": null,
   "id": "08577778",
   "metadata": {
    "scrolled": true
   },
   "outputs": [],
   "source": [
    "\"\"\"Had a difficult time with the different way this xmls sheet has been setup, especially since the data\n",
    "I want is embedded in different types of tags that I haven't seen before such as &lt;br&gt;&lt;strong&gt etc.\n",
    "All the data that I wanted was compiled in the <description> so I couldn't access Lat, Longs for example as individual elements\n",
    "\"\"\"\n",
    "print(xmls_vic_fire_data)\n",
    "\n",
    "\"\"\"How can I also get the latest from feed information\"\"\""
   ]
  },
  {
   "cell_type": "code",
   "execution_count": 12,
   "id": "21073258",
   "metadata": {},
   "outputs": [],
   "source": [
    "\"\"\"data has been saved as an xml file\"\"\"\n",
    "mytree = ET.parse('vic_data.xml') #Saved file to computer, we can use rather having to type the whole file path. \n",
    "myroot = mytree.getroot()"
   ]
  },
  {
   "cell_type": "code",
   "execution_count": null,
   "id": "6d76995a",
   "metadata": {},
   "outputs": [],
   "source": [
    "###Gives us the first description element with the details, but we want to get all description information\n",
    "first_description = myroot[0][5][2]\n",
    "print(first_description.text)"
   ]
  },
  {
   "cell_type": "code",
   "execution_count": null,
   "id": "e259e648",
   "metadata": {
    "scrolled": true
   },
   "outputs": [],
   "source": [
    "###iterates through and pulls out all the decription elements, \n",
    "for description in myroot.iter('description'):\n",
    "    #want the text as this is where the information we require is held\n",
    "    #have pulled the first description tag as well though, which is not needed\n",
    "        print(description.text)   "
   ]
  },
  {
   "cell_type": "code",
   "execution_count": null,
   "id": "057d5cb0",
   "metadata": {
    "scrolled": false
   },
   "outputs": [],
   "source": [
    "#found just the description data we are looking forand not the top description element and have put it in a list form\n",
    "all_desc_list =[]\n",
    "for all_description in myroot.findall(\"./channel/item/description\"):\n",
    "    all_desc_list.append(all_description.text)\n",
    "print(all_desc_list)"
   ]
  },
  {
   "cell_type": "code",
   "execution_count": 31,
   "id": "857a7979",
   "metadata": {},
   "outputs": [],
   "source": [
    "#removes tags that aren't needed. Is there a better way to append more items.\n",
    "clean_1 = []\n",
    "for string in all_desc_list:\n",
    "    clean_1.append(string.replace('</strong>',' '))\n",
    "    \n",
    "clean_2 = []\n",
    "for string in clean_1:\n",
    "    clean_2.append(string.replace('<strong>',' '))\n",
    "\n",
    "clean_3 = []\n",
    "for string in clean_2:\n",
    "    clean_3.append(string.replace('<br>',' '))\n",
    "\n",
    "\n",
    "\n",
    "    "
   ]
  },
  {
   "cell_type": "code",
   "execution_count": null,
   "id": "26143aec",
   "metadata": {
    "scrolled": true
   },
   "outputs": [],
   "source": [
    "print(clean_3)"
   ]
  },
  {
   "cell_type": "code",
   "execution_count": 82,
   "id": "a8137128",
   "metadata": {},
   "outputs": [],
   "source": [
    "#now we want to seperate the list so we can pull the correct dat using the indexing\n",
    "a = clean_3[0]\n",
    "b = clean_3[1]\n",
    "c = clean_3[2]\n"
   ]
  },
  {
   "cell_type": "code",
   "execution_count": 86,
   "id": "c0c0786b",
   "metadata": {
    "scrolled": true
   },
   "outputs": [
    {
     "name": "stdout",
     "output_type": "stream",
     "text": [
      " Incident Name:  FLINDERS PDE  Territory:  CFA  Agency:  CFA  Fire District:  Central  Incident No:  1917963  Date/Time:  08/10/2022 09:14:00  Type:  STRUCTURE  Location:  BARWON HEADS  Status:  Under Control  Size:  SMALL  Vehicles:  3  Latitude:  -38.28242548989067  Longitude:  144.49369163962484 \n"
     ]
    }
   ],
   "source": [
    "print(a)"
   ]
  },
  {
   "cell_type": "code",
   "execution_count": 100,
   "id": "424c62a6",
   "metadata": {
    "scrolled": true
   },
   "outputs": [
    {
     "name": "stdout",
     "output_type": "stream",
     "text": [
      "['Incident', 'Name:', 'FLINDERS', 'PDE', 'Territory:', 'CFA', 'Agency:', 'CFA', 'Fire', 'District:', 'Central', 'Incident', 'No:', '1917963', 'Date/Time:', '08/10/2022', '09:14:00', 'Type:', 'STRUCTURE', 'Location:', 'BARWON', 'HEADS', 'Status:', 'Under', 'Control', 'Size:', 'SMALL', 'Vehicles:', '3', 'Latitude:', '-38.28242548989067', 'Longitude:', '144.49369163962484']\n",
      "['Incident', 'Name:', 'KIEWA', 'ST', 'Territory:', 'CFA', 'Agency:', 'CFA', 'Fire', 'District:', 'Central', 'Incident', 'No:', '1917961', 'Date/Time:', '08/10/2022', '08:42:00', 'Type:', 'NON', 'STRUCTURE', 'Location:', 'NERRINA', 'Status:', 'Safe', 'Size:', 'SMALL', 'Vehicles:', '2', 'Latitude:', '-37.54684841100658', 'Longitude:', '143.8988979647485']\n",
      "['Incident', 'Name:', 'CROSHER', 'LANE', 'Territory:', 'CFA', 'Agency:', 'CFA', 'Fire', 'District:', 'North', 'East', 'Incident', 'No:', '1917962', 'Date/Time:', '08/10/2022', '09:09:00', 'Type:', 'FALSE', 'ALARM', 'Location:', 'NORTH', 'WANGARATTA', 'Status:', 'Safe', 'Size:', 'SMALL', 'Vehicles:', '0', 'Latitude:', '-36.33835306088829', 'Longitude:', '146.3734343364933']\n"
     ]
    }
   ],
   "source": [
    "#long winded , need to make it more succint.\n",
    "a_list = []\n",
    "for word in a.split():\n",
    "    a_list.append(word)\n",
    "print(a_list)\n",
    "b_list = []\n",
    "for word in b.split():\n",
    "    b_list.append(word)\n",
    "print(b_list)\n",
    "c_list = []\n",
    "for word in c.split():\n",
    "    c_list.append(word)\n",
    "print(c_list)"
   ]
  },
  {
   "cell_type": "code",
   "execution_count": 95,
   "id": "f2a02666",
   "metadata": {},
   "outputs": [
    {
     "name": "stdout",
     "output_type": "stream",
     "text": [
      "Incident\n"
     ]
    }
   ],
   "source": [
    "print(a_list[0])"
   ]
  },
  {
   "cell_type": "code",
   "execution_count": 94,
   "id": "f16a7409",
   "metadata": {},
   "outputs": [],
   "source": [
    "#do we want the co-ordinates as tuples\n",
    "lat_long = a_list[-3],a_list[-1]\n",
    "print(lat_long)"
   ]
  },
  {
   "cell_type": "code",
   "execution_count": 125,
   "id": "f15f54fa",
   "metadata": {},
   "outputs": [],
   "source": [
    "#list comprehension but end up with a list that is hard to put in a datfram\n",
    "indexes = [-3,-1]\n",
    "a_coordinates = [a_list[x] for x in indexes]\n",
    "b_coordinates = [b_list[x] for x in indexes]\n",
    "c_coordinates = [c_list[x] for x in indexes]"
   ]
  },
  {
   "cell_type": "code",
   "execution_count": 123,
   "id": "80dfacef",
   "metadata": {},
   "outputs": [],
   "source": [
    "co_ordinates_list = a_coordinates+b_coordinates+c_coordinates"
   ]
  },
  {
   "cell_type": "code",
   "execution_count": 124,
   "id": "0def815b",
   "metadata": {
    "scrolled": true
   },
   "outputs": [
    {
     "name": "stdout",
     "output_type": "stream",
     "text": [
      "['-38.28242548989067', '144.49369163962484', '-37.54684841100658', '143.8988979647485', '-36.33835306088829', '146.3734343364933']\n"
     ]
    }
   ],
   "source": [
    "print(co_ordinates_list)"
   ]
  },
  {
   "cell_type": "code",
   "execution_count": null,
   "id": "1f45179f",
   "metadata": {},
   "outputs": [],
   "source": [
    "df_cols = [\"Lattitude\", \"Longtitude\"]"
   ]
  },
  {
   "cell_type": "code",
   "execution_count": null,
   "id": "97537af7",
   "metadata": {},
   "outputs": [],
   "source": [
    "#import nums_from_string in terminal and updated pip version as well\n",
    "\"\"\"Installing collected packages: nums_from_string\n",
    "Successfully installed nums_from_string-0.1.2\n",
    "\n",
    "[notice] A new release of pip available: 22.1.2 -> 22.2.2\n",
    "[notice] To update, run: pip install --upgrade pip\n",
    "(base) camgoodhue@Camerons-MacBook-Pro ~ % pip install --upgrade pip\n",
    "Requirement already satisfied: pip in ./opt/anaconda3/lib/python3.8/site-packages (22.1.2)\n",
    "Collecting pip\n",
    "  Downloading pip-22.2.2-py3-none-any.whl (2.0 MB)\n",
    "     ━━━━━━━━━━━━━━━━━━━━━━━━━━━━━━━━━━━━━━━━ 2.0/2.0 MB 2.7 MB/s eta 0:00:00\n",
    "Installing collected packages: pip\n",
    "  Attempting uninstall: pip\n",
    "    Found existing installation: pip 22.1.2\n",
    "    Uninstalling pip-22.1.2:\n",
    "      Successfully uninstalled pip-22.1.2\n",
    "Successfully installed pip-22.2.2\n",
    "(base) camgoodhue@Camerons-MacBook-Pro ~ % ###\"\"\"\n",
    "\n",
    "import nums_from_string\n"
   ]
  }
 ],
 "metadata": {
  "kernelspec": {
   "display_name": "Python 3",
   "language": "python",
   "name": "python3"
  },
  "language_info": {
   "codemirror_mode": {
    "name": "ipython",
    "version": 3
   },
   "file_extension": ".py",
   "mimetype": "text/x-python",
   "name": "python",
   "nbconvert_exporter": "python",
   "pygments_lexer": "ipython3",
   "version": "3.8.8"
  }
 },
 "nbformat": 4,
 "nbformat_minor": 5
}
