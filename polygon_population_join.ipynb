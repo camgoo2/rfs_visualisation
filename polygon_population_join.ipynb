{
 "cells": [
  {
   "cell_type": "code",
   "execution_count": null,
   "id": "2d93ebe2",
   "metadata": {},
   "outputs": [],
   "source": [
    "import pandas as pd\n",
    "import geopandas as gpd\n",
    "import boto3\n",
    "from shapely import wkt \n",
    "import time\n",
    "aws_region = \"ap-southeast-2\"\n",
    "schema_name = \"fire_data\"\n",
    "table_name ='rfs_fire_data'\n",
    "result_output_location = \"s3://camgoo2-rfs-visualisation/query_results/\"\n",
    "bucket='camgoo2-rfs-visualisation'\n",
    "athena_client = boto3.client('athena',region_name=aws_region)\n",
    "s3_client = boto3.client('s3')"
   ]
  },
  {
   "cell_type": "code",
   "execution_count": null,
   "id": "4bf3ae3f",
   "metadata": {},
   "outputs": [],
   "source": [
    "population_df = pd.read_csv('BCP_LGA_for_AUST_short-header/Census BCP Local Government Areas for AUST/AUST/2011Census_B01_AUST_LGA_short.csv')\n",
    "#keep only nescessary colums\n",
    "population_df = population_df[['region_id', 'Tot_P_P']]\n",
    "#Rename the column of the region_id column to be the same as our geo_df dataframe \"LGA_CODE11\"\n",
    "population_df = population_df.rename(columns={'region_id':'LGA_CODE11'})\n",
    "#using .replace method remove 'LGA' from the population_df 'LGA_CODE11' column to be consistent with the 'LGA_CODE11' data in geo_df\n",
    "#need the regex agrument here otherwise it won't replace\n",
    "population_df = population_df.replace('LGA','', regex=True)\n",
    "#save down to csv locally\n",
    "population_df.to_csv('lga_population/lga_population.csv', header = False, index= False)\n",
    "#put population_df to s3 bucket\n",
    "s3 = boto3.client('s3')\n",
    "#arguments (file to be added, bucket to be added too, name of file in bucket)\n",
    "s3.upload_file('lga_population/lga_population.csv','camgoo2-rfs-visualisation','lga_population/lga_population.csv')"
   ]
  },
  {
   "cell_type": "code",
   "execution_count": null,
   "id": "6cc9f80b",
   "metadata": {},
   "outputs": [],
   "source": [
    "geo_df = gpd.read_file('1259030001_lga11aaust_shape/LGA11aAust.shp')\n",
    "#geospatial polygon needs to be saved down with '|' delimiter as there is \",\" in geometry and won't all be read\n",
    "geo_df.to_csv('lga_polygons/lga_polygons.csv', sep = '|', header = False, index= False)\n",
    "#put geospatial data to bucket\n",
    "s3 = boto3.client('s3')\n",
    "#arguments (file to be added, bucket to be added too, name of file in bucket)\n",
    "s3.upload_file('lga_polygons/lga_polygons.csv','camgoo2-rfs-visualisation','lga_polygons/lga_polygons.csv')"
   ]
  },
  {
   "cell_type": "code",
   "execution_count": null,
   "id": "cffbafaf",
   "metadata": {},
   "outputs": [],
   "source": [
    "#JOIN tables USING key fields (lga_code)\n",
    "query = \"SELECT lga_code,lga_name,population,geometry FROM fire_data.lga_polygons JOIN fire_data.lga_population USING (lga_code)\"\n",
    "response = athena_client.start_query_execution(\n",
    "    QueryString=query,\n",
    "    ResultConfiguration={\"OutputLocation\": result_output_location})\n",
    "\n",
    "#save the query execution id as a variable\n",
    "execution_id = response[\"QueryExecutionId\"]\n",
    "time.sleep(5)\n",
    "response_path = \"query_results/\"+execution_id+'.csv'\n",
    "#get the athena csv tat is saved and create a GeoDataFrame \n",
    "# create connection to S3 using default config and all buckets within S3\n",
    "obj = s3_client.get_object(Bucket= bucket, Key= response_path) \n",
    "# get object and file (key) from bucket\n",
    "df = pd.read_csv(obj['Body']) # 'Body' is a key word\n",
    "# GeoDataFrame\n",
    "df=gpd.GeoDataFrame(df)\n",
    "# Well Known Text (WKT) is an Open Geospatial Consortium (OGC) standard that is used to represent spatial data in a textual format\n",
    "df['geometry']=df['geometry'].apply(wkt.loads)\n",
    "#save geo data frame down to a GeoJSON file which is required fro our folium chloropeth map\n",
    "df.to_file('lga_population_geometry/lga_population_geometry.geojson', driver=\"GeoJSON\")"
   ]
  }
 ],
 "metadata": {
  "kernelspec": {
   "display_name": "Python 3",
   "language": "python",
   "name": "python3"
  },
  "language_info": {
   "codemirror_mode": {
    "name": "ipython",
    "version": 3
   },
   "file_extension": ".py",
   "mimetype": "text/x-python",
   "name": "python",
   "nbconvert_exporter": "python",
   "pygments_lexer": "ipython3",
   "version": "3.8.8"
  }
 },
 "nbformat": 4,
 "nbformat_minor": 5
}
